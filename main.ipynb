{
  "nbformat": 4,
  "nbformat_minor": 0,
  "metadata": {
    "colab": {
      "name": "main.ipynb",
      "provenance": [],
      "include_colab_link": true
    },
    "kernelspec": {
      "name": "python3",
      "display_name": "Python 3"
    },
    "language_info": {
      "name": "python"
    }
  },
  "cells": [
    {
      "cell_type": "markdown",
      "metadata": {
        "id": "view-in-github",
        "colab_type": "text"
      },
      "source": [
        "<a href=\"https://colab.research.google.com/github/srezazad/A-conjecture-on-Lyapanov-exponent/blob/main/main.ipynb\" target=\"_parent\"><img src=\"https://colab.research.google.com/assets/colab-badge.svg\" alt=\"Open In Colab\"/></a>"
      ]
    },
    {
      "cell_type": "markdown",
      "metadata": {
        "id": "LOJLLort9BZo"
      },
      "source": [
        "### A conjecture on Lyapanov exponent "
      ]
    },
    {
      "cell_type": "markdown",
      "metadata": {
        "id": "Q_Tps-iD79Kv"
      },
      "source": [
        "Fix $0<\\alpha<1$ and $a_1,\\cdots,a_m\\in \\mathbb{R}^d$ such that $\\Vert a_i\\Vert \\leq \\alpha$ for all $i\\in [m]$. Set \n",
        "\\begin{equation}\n",
        "    X_i := I-a_ia_i^T.\n",
        "\\end{equation}\n",
        "\n",
        "Note that the parameter $\\alpha$ plays the role of the step-size in optimization problems which can be chosen by the user. \n",
        "Define  the random variables $\\{Z_n\\}_{n=0}^{\\infty}$ as follows. \n",
        "\\begin{equation}\n",
        "    Z_n:=X_{i}Z_{n-1} \\quad \\text{ where } i \\sim Unif[m].\n",
        "\\end{equation}\n",
        "By convention, $Z_0=I$. We define \n",
        "\\begin{equation}\n",
        "    \\ell(v):=\\lim_{n\\to +\\infty} \\frac{1}{n}\\log \\Vert Z_n(v)\\Vert.\n",
        "\\end{equation}\n",
        "Lemma: Suppose that $\\ell(v_1)<\\cdots \\ell(v_s)$ for $v_1,\\cdots,v_k\\in \\mathbb{R}^n$. Then it holds that $v_1,\\cdots,v_k$ are linearly independent. In particular, the set of $\\{\\ell(v): v \\in \\mathbb{R}^d\\}$ is a finite set. \n",
        "For every $v\\in \\mathbb{R}^d$, $\\ell(v)$ defined above is called a Lyapunov exponent. \n",
        "\n",
        "By this lemma , we can show that there are only finitely many Lyapunov exponent for every fixed set of vectors $\\{a_1,\\cdots,a_m\\}$. \n",
        "\n",
        "Example: Note that there exists $t_n\\in \\mathbb{R}$, such that it holds that\n",
        "\\begin{equation}\n",
        "    X=I-aa^T \\Rightarrow X^n=I-t_naa^T.\n",
        "\\end{equation}\n",
        "Taking determinant, we obtain that \n",
        "\\begin{equation}\n",
        "    1-t_n\\Vert a \\Vert^2 = \\left(1-\\Vert a\\Vert^2\\right)^n.\n",
        "\\end{equation}\n",
        "Thus, we have that \n",
        "\\begin{equation}\n",
        "    \\frac{1}{n}\\log \\Vert Z_n(v)\\Vert=\\frac{1}{n}\\log \\Vert Z_n(v)\\Vert = \\frac{1}{n}\\log \\left\\Vert v-\\frac{1- \\left(1-\\Vert a\\Vert^2\\right)^n}{\\Vert a\\Vert^2}\\langle a,v\\rangle a\\right\\Vert.\n",
        "\\end{equation}\n",
        "Decompose $v$ orthogonally as $v=ra+a'$ where $r\\in \\mathbb{R}$. We then obtain that \n",
        "\\begin{equation*}\n",
        "\\begin{aligned}\n",
        "   \\lim_{n\\to \\infty} \\frac{1}{n}\\log \\Vert Z_n(v)\\Vert&= \\lim_{n\\to \\infty}\\frac{1}{n}\\log \\Vert r\\left(1-\\Vert a\\Vert^2 \\right)^na+a'\\Vert.\n",
        "     \\end{aligned}\n",
        "\\end{equation*}\n",
        "Taking limit as $n$ goes to infinity, we obtain that \n",
        "\\begin{equation}\n",
        "    \\lim_{n\\to \\infty}\\frac{1}{n}\\log \\Vert Z_n(v)\\Vert = \\log\\left(1-\\Vert a \\Vert^2\\right) \\text{ whenever} \\quad r\\neq 0.\n",
        "\\end{equation}\n",
        "Hence, we have established that \n",
        "\n",
        "Proposition: In the case of $m=1$, there are only two Lyapunov exponents: $0$ and $\\log(1-\\Vert a\\Vert^2)$.\n",
        "\n",
        "We recall the following fact🇰\n",
        "\n",
        "If vector $v$ is chosen randomly, we then have $\\ell(v)$ converges to the minimum Lyapanov exponent. It can be shown that this exponent equals to \n",
        "\\begin{equation}\n",
        "\\text{lyp_exp}:=\\lim_{n\\to +\\infty} \\frac{1}{n}\\log \\Vert Z_n\\Vert.\n",
        "\\end{equation}\n",
        "\n",
        "Below, we write a function to compute lyp_{exp} for the case of m=2. "
      ]
    },
    {
      "cell_type": "code",
      "metadata": {
        "id": "cCYGNh6hWeuj"
      },
      "source": [
        "import numpy as np\n",
        "import seaborn as sns \n",
        "import matplotlib.pyplot as plt\n",
        "import pandas as pd \n",
        "\n",
        "\n",
        "def generate(d=100):\n",
        "  \"\"\"Generate random d dimensional vector with norm at most alpha\"\"\"\n",
        "\n",
        "  alpha = .8\n",
        "  v = np.random.normal(size = (d,))\n",
        "  v = v/(np.linalg.norm(v)+.2)\n",
        "  v = v*np.random.rand()*alpha \n",
        "  return v\n",
        "\n",
        "def lyp_exp(a,b):\n",
        "  \"\"\" Computing Lyaponv exponents for two given vectors a and b. We\n",
        "  generate a and b, randomly using the generate function above.\"\"\"\n",
        "\n",
        "  max_iter = 100  ### Maximum number of iterations to iterate. \n",
        "\n",
        "  d = len(a)\n",
        "\n",
        "  I_aaT = np.eye(d) - np.matmul(a,np.transpose(a))\n",
        "  I_bbT = np.eye(d) - np.matmul(b,np.transpose(b))\n",
        " \n",
        "\n",
        "  Z = np.eye(d)\n",
        "  all_vals = []\n",
        "\n",
        "  for k in range(max_iter):\n",
        "\n",
        "    r = np.random.choice([0,1], size=1)\n",
        "    \n",
        "    if r == 0:\n",
        "      Z = I_aaT * Z\n",
        "    elif r ==1:\n",
        "      Z = I_bbT * Z\n",
        "  \n",
        "    all_vals.append(np.log(np.linalg.norm(Z))/(k+1))\n",
        "  return all_vals ### all_vals[-1] gives the Lyapanov exponent. Notice that we \n",
        "  # keep all the values for illustration purposes \n",
        "\n",
        "def make_df(n_samples = 1000):\n",
        "  \"\"\" Compute n_samples vectors a and b using the generate function. Then compute\n",
        "  their norm and their inner product. Compute the Lyapanov exponent in the last \n",
        "  column. The output of make_df consists of two data frames X and y.\n",
        "  y is the target value, i.e. the Lyapanov exponent.\"\"\"\n",
        "  \n",
        "  columns = ['norm_a', 'norm_b', 'inner_ab', 'Lyap(a,b)']\n",
        "  df = pd.DataFrame(np.zeros((n_samples, 4)), columns = columns)\n",
        "\n",
        "  for k in np.arange(n_samples):\n",
        "\n",
        "    a = generate()\n",
        "    b = generate()\n",
        " \n",
        "    norm_a = np.linalg.norm(a)\n",
        "    norm_b = np.linalg.norm(b)\n",
        "    inner_ab = np.inner(a,b)\n",
        "    \n",
        "    new_row = [norm_a, norm_b, inner_ab, lyp_exp(a,b)[-1]]\n",
        "    df.iloc[k,:] = new_row\n",
        "    \n",
        "\n",
        "  X = df.drop('Lyap(a,b)', axis=1)\n",
        "  y = df['Lyap(a,b)']\n",
        "\n",
        "  return X, y"
      ],
      "execution_count": null,
      "outputs": []
    },
    {
      "cell_type": "markdown",
      "metadata": {
        "id": "nOApbpxcEkY1"
      },
      "source": [
        "### Example"
      ]
    },
    {
      "cell_type": "markdown",
      "metadata": {
        "id": "Uqd8aCI9FFgF"
      },
      "source": [
        "We bring an example of how the series of real values generated by the sequence \n",
        "\\begin{equation}\n",
        "\\frac{1}{n}\\log \\Vert Z_n\\Vert \\text{ for } n=1,2,3, \\cdots \n",
        "\\end{equation}\n",
        "looks like. Notice that the Frobeinous norm is used here. However, since all norms are equaivalent in any Euclidean space, this is OK. "
      ]
    },
    {
      "cell_type": "code",
      "metadata": {
        "colab": {
          "base_uri": "https://localhost:8080/",
          "height": 265
        },
        "id": "xWi6KfYfzsFF",
        "outputId": "c873f7cc-a9ee-4e29-eae2-980d0116548b"
      },
      "source": [
        "## generate random vectors a and b \n",
        "a = generate()\n",
        "b = generate()\n",
        "\n",
        "all_vals = lyp_exp(a,b)\n",
        "sns.scatterplot(x = range(len(all_vals)), y=all_vals)\n",
        "plt.show()"
      ],
      "execution_count": null,
      "outputs": [
        {
          "output_type": "display_data",
          "data": {
            "image/png": "[encoded data removed]",
            "text/plain": [
              "<Figure size 432x288 with 1 Axes>"
            ]
          },
          "metadata": {
            "needs_background": "light"
          }
        }
      ]
    },
    {
      "cell_type": "markdown",
      "metadata": {
        "id": "bLNRhco66c5s"
      },
      "source": [
        "### Training data \n"
      ]
    },
    {
      "cell_type": "markdown",
      "metadata": {
        "id": "jhyyEPnXHQyq"
      },
      "source": [
        "We next generate a training data set. We generate $X$ and $y$ where $X$ consists of $\\Vert a \\Vert$, $\\Vert b \\Vert$ and $\\langle a,b\\rangle$. $y$ is basically the Lyaponov exponent. "
      ]
    },
    {
      "cell_type": "code",
      "metadata": {
        "id": "i8ug87Ji6hnp"
      },
      "source": [
        "X1, y1 = make_df(50)"
      ],
      "execution_count": null,
      "outputs": []
    },
    {
      "cell_type": "markdown",
      "metadata": {
        "id": "gFm8IGWz298p"
      },
      "source": [
        "### Training the model"
      ]
    },
    {
      "cell_type": "markdown",
      "metadata": {
        "id": "NFHFPX-rHpUn"
      },
      "source": [
        "We now perform a polynomial regression of columns of $X$. "
      ]
    },
    {
      "cell_type": "code",
      "metadata": {
        "colab": {
          "base_uri": "https://localhost:8080/"
        },
        "id": "8bSa13PdplzM",
        "outputId": "1693cb1e-400c-4097-8e0a-2b1bd64c4c71"
      },
      "source": [
        "from sklearn.preprocessing import PolynomialFeatures\n",
        "from sklearn.pipeline import make_pipeline\n",
        "from sklearn.linear_model import LinearRegression\n",
        "\n",
        "degree = 2\n",
        "lgr = LinearRegression()\n",
        "polyreg=PolynomialFeatures(degree)\n",
        "\n",
        "df_poly1 = pd.DataFrame(polyreg.fit_transform(X1))\n",
        "lgr.fit(df_poly1,y1)\n",
        "\n",
        "\n",
        "# df_poly = df_poly.drop([0], axis=1)"
      ],
      "execution_count": null,
      "outputs": [
        {
          "output_type": "execute_result",
          "data": {
            "text/plain": [
              "LinearRegression()"
            ]
          },
          "metadata": {},
          "execution_count": 12
        }
      ]
    },
    {
      "cell_type": "markdown",
      "metadata": {
        "id": "f4apTTD43C7_"
      },
      "source": [
        "### Testing "
      ]
    },
    {
      "cell_type": "markdown",
      "metadata": {
        "id": "vErzDCcCH0vV"
      },
      "source": [
        "We now generate a test data set. We observe that the model trained above performs very well on this unseen test data set. "
      ]
    },
    {
      "cell_type": "code",
      "metadata": {
        "colab": {
          "base_uri": "https://localhost:8080/",
          "height": 265
        },
        "id": "uw-nRvgswBi9",
        "outputId": "db0f79e8-030d-49d1-fc49-46699d5daa77"
      },
      "source": [
        "import seaborn as sns \n",
        "X2, y2 = make_df(200)\n",
        "df_poly2 = pd.DataFrame(polyreg.fit_transform(X2))\n",
        "y2_pred = lgr.predict(df_poly2)\n",
        "sns.regplot(x=y2_pred, y=y2,  line_kws={'color': 'green'});\n",
        "# sns.scatterplot(x=y2_pred, y =y2)\n",
        "plt.show()"
      ],
      "execution_count": null,
      "outputs": [
        {
          "output_type": "display_data",
          "data": {
            "image/png": "[encoded data removed]",
            "text/plain": [
              "<Figure size 432x288 with 1 Axes>"
            ]
          },
          "metadata": {
            "needs_background": "light"
          }
        }
      ]
    },
    {
      "cell_type": "markdown",
      "metadata": {
        "id": "orhwMALdIdNG"
      },
      "source": [
        "### Conjecture"
      ]
    },
    {
      "cell_type": "markdown",
      "metadata": {
        "id": "4exZhtXtIfn0"
      },
      "source": [
        "The following observation seems to hold for $m>2$ as well. Hence, for a given set of vectors $a_1, \\cdots, a_m \\mathbb{R}^d$, the Gram Schmidt matrix of $a_i$ would determin the Lyaponov exponent. \n",
        "\n",
        "Here are some major questions we need to answer before trying to think about this conjecture. \n",
        "\n",
        "1) Can we establish a reasonable termination criteria for computing the Lyaponv exponent? In our lyp_exp function, we only tried 100 iterations. This might be inaccurate. \n",
        "\n",
        "2) Does our conjecture trivially follow from some basic proof? "
      ]
    }
  ]
}